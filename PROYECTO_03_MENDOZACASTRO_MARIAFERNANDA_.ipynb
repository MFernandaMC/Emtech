{
  "nbformat": 4,
  "nbformat_minor": 0,
  "metadata": {
    "colab": {
      "name": "PROYECTO-03-MENDOZACASTRO-MARIAFERNANDA-.ipynb",
      "provenance": [],
      "authorship_tag": "ABX9TyM6gWFGjqt1kRskD5i4Z4wj",
      "include_colab_link": true
    },
    "kernelspec": {
      "name": "python3",
      "display_name": "Python 3"
    },
    "language_info": {
      "name": "python"
    }
  },
  "cells": [
    {
      "cell_type": "markdown",
      "metadata": {
        "id": "view-in-github",
        "colab_type": "text"
      },
      "source": [
        "<a href=\"https://colab.research.google.com/github/MFernandaMC/Emtech1/blob/main/PROYECTO_03_MENDOZACASTRO_MARIAFERNANDA_.ipynb\" target=\"_parent\"><img src=\"https://colab.research.google.com/assets/colab-badge.svg\" alt=\"Open In Colab\"/></a>"
      ]
    },
    {
      "cell_type": "code",
      "source": [
        "#Importacion de librerias \n",
        "import pandas as pd\n",
        "import numpy as np"
      ],
      "metadata": {
        "id": "3F-tNC2jeK80"
      },
      "execution_count": 3,
      "outputs": []
    },
    {
      "cell_type": "code",
      "execution_count": 6,
      "metadata": {
        "colab": {
          "base_uri": "https://localhost:8080/"
        },
        "id": "uvraejR1bB0s",
        "outputId": "0a71be27-0e21-42a0-df5d-acba4b98dec0"
      },
      "outputs": [
        {
          "output_type": "stream",
          "name": "stdout",
          "text": [
            "<class 'pandas.core.frame.DataFrame'>\n",
            "RangeIndex: 4802 entries, 0 to 4801\n",
            "Data columns (total 10 columns):\n",
            " #   Column            Non-Null Count  Dtype  \n",
            "---  ------            --------------  -----  \n",
            " 0   track_id          4802 non-null   int64  \n",
            " 1   genre_top         4802 non-null   object \n",
            " 2   acousticness      4802 non-null   float64\n",
            " 3   danceability      4802 non-null   float64\n",
            " 4   energy            4802 non-null   float64\n",
            " 5   instrumentalness  4802 non-null   float64\n",
            " 6   liveness          4802 non-null   float64\n",
            " 7   speechiness       4802 non-null   float64\n",
            " 8   tempo             4802 non-null   float64\n",
            " 9   valence           4802 non-null   float64\n",
            "dtypes: float64(8), int64(1), object(1)\n",
            "memory usage: 375.3+ KB\n"
          ]
        }
      ],
      "source": [
        "#Se guardo el archivo csv y se guardara su ruta en la variable llamada dataframe\n",
        "dataframe=pd.read_csv('/content/cleaned.csv', index_col=None)\n",
        "\n",
        "#informacion general\n",
        "dataframe.info()"
      ]
    },
    {
      "cell_type": "code",
      "source": [
        "#Número de columnas y filas\n",
        "#con .shape[n] te devuelve el tamaño del array que selecciones\n",
        "print ('El numero de columnas es: ', dataframe.shape[1])\n",
        "print ('El numero de filas es: ', dataframe.shape[0])"
      ],
      "metadata": {
        "colab": {
          "base_uri": "https://localhost:8080/"
        },
        "id": "0D1VNUUQfcyN",
        "outputId": "21d47f78-950b-4e76-b686-43df3a2c86a1"
      },
      "execution_count": 12,
      "outputs": [
        {
          "output_type": "stream",
          "name": "stdout",
          "text": [
            "El numero de columnas es:  10\n",
            "El numero de filas es:  4802\n"
          ]
        }
      ]
    },
    {
      "cell_type": "code",
      "source": [
        "#Calculo de la media, maxima, minima y desviacion\n",
        "# con .describe() funciona para encontrar las estadísticas de cada columna\n",
        "dataframe.describe()"
      ],
      "metadata": {
        "colab": {
          "base_uri": "https://localhost:8080/",
          "height": 344
        },
        "id": "KvH4tJsrh652",
        "outputId": "ff834b78-b204-4de7-9026-cd24af0150e9"
      },
      "execution_count": 13,
      "outputs": [
        {
          "output_type": "execute_result",
          "data": {
            "text/plain": [
              "            track_id  acousticness  danceability       energy  \\\n",
              "count    4802.000000  4.802000e+03   4802.000000  4802.000000   \n",
              "mean    30164.871720  4.870600e-01      0.436556     0.625126   \n",
              "std     28592.013796  3.681396e-01      0.183502     0.244051   \n",
              "min         2.000000  9.491000e-07      0.051307     0.000279   \n",
              "25%      7494.250000  8.351236e-02      0.296047     0.450757   \n",
              "50%     20723.500000  5.156888e-01      0.419447     0.648374   \n",
              "75%     44240.750000  8.555765e-01      0.565339     0.837016   \n",
              "max    124722.000000  9.957965e-01      0.961871     0.999768   \n",
              "\n",
              "       instrumentalness     liveness  speechiness        tempo      valence  \n",
              "count       4802.000000  4802.000000  4802.000000  4802.000000  4802.000000  \n",
              "mean           0.604096     0.187997     0.104877   126.687944     0.453413  \n",
              "std            0.376487     0.150562     0.145934    34.002473     0.266632  \n",
              "min            0.000000     0.025297     0.023234    29.093000     0.014392  \n",
              "25%            0.164972     0.104052     0.036897    98.000750     0.224617  \n",
              "50%            0.808752     0.123080     0.049594   124.625500     0.446240  \n",
              "75%            0.915472     0.215151     0.088290   151.450000     0.666914  \n",
              "max            0.993134     0.971392     0.966177   250.059000     0.983649  "
            ],
            "text/html": [
              "\n",
              "  <div id=\"df-a9556c8b-2b23-495a-b25e-39e99de42554\">\n",
              "    <div class=\"colab-df-container\">\n",
              "      <div>\n",
              "<style scoped>\n",
              "    .dataframe tbody tr th:only-of-type {\n",
              "        vertical-align: middle;\n",
              "    }\n",
              "\n",
              "    .dataframe tbody tr th {\n",
              "        vertical-align: top;\n",
              "    }\n",
              "\n",
              "    .dataframe thead th {\n",
              "        text-align: right;\n",
              "    }\n",
              "</style>\n",
              "<table border=\"1\" class=\"dataframe\">\n",
              "  <thead>\n",
              "    <tr style=\"text-align: right;\">\n",
              "      <th></th>\n",
              "      <th>track_id</th>\n",
              "      <th>acousticness</th>\n",
              "      <th>danceability</th>\n",
              "      <th>energy</th>\n",
              "      <th>instrumentalness</th>\n",
              "      <th>liveness</th>\n",
              "      <th>speechiness</th>\n",
              "      <th>tempo</th>\n",
              "      <th>valence</th>\n",
              "    </tr>\n",
              "  </thead>\n",
              "  <tbody>\n",
              "    <tr>\n",
              "      <th>count</th>\n",
              "      <td>4802.000000</td>\n",
              "      <td>4.802000e+03</td>\n",
              "      <td>4802.000000</td>\n",
              "      <td>4802.000000</td>\n",
              "      <td>4802.000000</td>\n",
              "      <td>4802.000000</td>\n",
              "      <td>4802.000000</td>\n",
              "      <td>4802.000000</td>\n",
              "      <td>4802.000000</td>\n",
              "    </tr>\n",
              "    <tr>\n",
              "      <th>mean</th>\n",
              "      <td>30164.871720</td>\n",
              "      <td>4.870600e-01</td>\n",
              "      <td>0.436556</td>\n",
              "      <td>0.625126</td>\n",
              "      <td>0.604096</td>\n",
              "      <td>0.187997</td>\n",
              "      <td>0.104877</td>\n",
              "      <td>126.687944</td>\n",
              "      <td>0.453413</td>\n",
              "    </tr>\n",
              "    <tr>\n",
              "      <th>std</th>\n",
              "      <td>28592.013796</td>\n",
              "      <td>3.681396e-01</td>\n",
              "      <td>0.183502</td>\n",
              "      <td>0.244051</td>\n",
              "      <td>0.376487</td>\n",
              "      <td>0.150562</td>\n",
              "      <td>0.145934</td>\n",
              "      <td>34.002473</td>\n",
              "      <td>0.266632</td>\n",
              "    </tr>\n",
              "    <tr>\n",
              "      <th>min</th>\n",
              "      <td>2.000000</td>\n",
              "      <td>9.491000e-07</td>\n",
              "      <td>0.051307</td>\n",
              "      <td>0.000279</td>\n",
              "      <td>0.000000</td>\n",
              "      <td>0.025297</td>\n",
              "      <td>0.023234</td>\n",
              "      <td>29.093000</td>\n",
              "      <td>0.014392</td>\n",
              "    </tr>\n",
              "    <tr>\n",
              "      <th>25%</th>\n",
              "      <td>7494.250000</td>\n",
              "      <td>8.351236e-02</td>\n",
              "      <td>0.296047</td>\n",
              "      <td>0.450757</td>\n",
              "      <td>0.164972</td>\n",
              "      <td>0.104052</td>\n",
              "      <td>0.036897</td>\n",
              "      <td>98.000750</td>\n",
              "      <td>0.224617</td>\n",
              "    </tr>\n",
              "    <tr>\n",
              "      <th>50%</th>\n",
              "      <td>20723.500000</td>\n",
              "      <td>5.156888e-01</td>\n",
              "      <td>0.419447</td>\n",
              "      <td>0.648374</td>\n",
              "      <td>0.808752</td>\n",
              "      <td>0.123080</td>\n",
              "      <td>0.049594</td>\n",
              "      <td>124.625500</td>\n",
              "      <td>0.446240</td>\n",
              "    </tr>\n",
              "    <tr>\n",
              "      <th>75%</th>\n",
              "      <td>44240.750000</td>\n",
              "      <td>8.555765e-01</td>\n",
              "      <td>0.565339</td>\n",
              "      <td>0.837016</td>\n",
              "      <td>0.915472</td>\n",
              "      <td>0.215151</td>\n",
              "      <td>0.088290</td>\n",
              "      <td>151.450000</td>\n",
              "      <td>0.666914</td>\n",
              "    </tr>\n",
              "    <tr>\n",
              "      <th>max</th>\n",
              "      <td>124722.000000</td>\n",
              "      <td>9.957965e-01</td>\n",
              "      <td>0.961871</td>\n",
              "      <td>0.999768</td>\n",
              "      <td>0.993134</td>\n",
              "      <td>0.971392</td>\n",
              "      <td>0.966177</td>\n",
              "      <td>250.059000</td>\n",
              "      <td>0.983649</td>\n",
              "    </tr>\n",
              "  </tbody>\n",
              "</table>\n",
              "</div>\n",
              "      <button class=\"colab-df-convert\" onclick=\"convertToInteractive('df-a9556c8b-2b23-495a-b25e-39e99de42554')\"\n",
              "              title=\"Convert this dataframe to an interactive table.\"\n",
              "              style=\"display:none;\">\n",
              "        \n",
              "  <svg xmlns=\"http://www.w3.org/2000/svg\" height=\"24px\"viewBox=\"0 0 24 24\"\n",
              "       width=\"24px\">\n",
              "    <path d=\"M0 0h24v24H0V0z\" fill=\"none\"/>\n",
              "    <path d=\"M18.56 5.44l.94 2.06.94-2.06 2.06-.94-2.06-.94-.94-2.06-.94 2.06-2.06.94zm-11 1L8.5 8.5l.94-2.06 2.06-.94-2.06-.94L8.5 2.5l-.94 2.06-2.06.94zm10 10l.94 2.06.94-2.06 2.06-.94-2.06-.94-.94-2.06-.94 2.06-2.06.94z\"/><path d=\"M17.41 7.96l-1.37-1.37c-.4-.4-.92-.59-1.43-.59-.52 0-1.04.2-1.43.59L10.3 9.45l-7.72 7.72c-.78.78-.78 2.05 0 2.83L4 21.41c.39.39.9.59 1.41.59.51 0 1.02-.2 1.41-.59l7.78-7.78 2.81-2.81c.8-.78.8-2.07 0-2.86zM5.41 20L4 18.59l7.72-7.72 1.47 1.35L5.41 20z\"/>\n",
              "  </svg>\n",
              "      </button>\n",
              "      \n",
              "  <style>\n",
              "    .colab-df-container {\n",
              "      display:flex;\n",
              "      flex-wrap:wrap;\n",
              "      gap: 12px;\n",
              "    }\n",
              "\n",
              "    .colab-df-convert {\n",
              "      background-color: #E8F0FE;\n",
              "      border: none;\n",
              "      border-radius: 50%;\n",
              "      cursor: pointer;\n",
              "      display: none;\n",
              "      fill: #1967D2;\n",
              "      height: 32px;\n",
              "      padding: 0 0 0 0;\n",
              "      width: 32px;\n",
              "    }\n",
              "\n",
              "    .colab-df-convert:hover {\n",
              "      background-color: #E2EBFA;\n",
              "      box-shadow: 0px 1px 2px rgba(60, 64, 67, 0.3), 0px 1px 3px 1px rgba(60, 64, 67, 0.15);\n",
              "      fill: #174EA6;\n",
              "    }\n",
              "\n",
              "    [theme=dark] .colab-df-convert {\n",
              "      background-color: #3B4455;\n",
              "      fill: #D2E3FC;\n",
              "    }\n",
              "\n",
              "    [theme=dark] .colab-df-convert:hover {\n",
              "      background-color: #434B5C;\n",
              "      box-shadow: 0px 1px 3px 1px rgba(0, 0, 0, 0.15);\n",
              "      filter: drop-shadow(0px 1px 2px rgba(0, 0, 0, 0.3));\n",
              "      fill: #FFFFFF;\n",
              "    }\n",
              "  </style>\n",
              "\n",
              "      <script>\n",
              "        const buttonEl =\n",
              "          document.querySelector('#df-a9556c8b-2b23-495a-b25e-39e99de42554 button.colab-df-convert');\n",
              "        buttonEl.style.display =\n",
              "          google.colab.kernel.accessAllowed ? 'block' : 'none';\n",
              "\n",
              "        async function convertToInteractive(key) {\n",
              "          const element = document.querySelector('#df-a9556c8b-2b23-495a-b25e-39e99de42554');\n",
              "          const dataTable =\n",
              "            await google.colab.kernel.invokeFunction('convertToInteractive',\n",
              "                                                     [key], {});\n",
              "          if (!dataTable) return;\n",
              "\n",
              "          const docLinkHtml = 'Like what you see? Visit the ' +\n",
              "            '<a target=\"_blank\" href=https://colab.research.google.com/notebooks/data_table.ipynb>data table notebook</a>'\n",
              "            + ' to learn more about interactive tables.';\n",
              "          element.innerHTML = '';\n",
              "          dataTable['output_type'] = 'display_data';\n",
              "          await google.colab.output.renderOutput(dataTable, element);\n",
              "          const docLink = document.createElement('div');\n",
              "          docLink.innerHTML = docLinkHtml;\n",
              "          element.appendChild(docLink);\n",
              "        }\n",
              "      </script>\n",
              "    </div>\n",
              "  </div>\n",
              "  "
            ]
          },
          "metadata": {},
          "execution_count": 13
        }
      ]
    },
    {
      "cell_type": "code",
      "source": [
        "#Arbol de decision\n",
        "# se importa la librería sklearn para un arbol de decisiones que sirven para \n",
        "# problemas de regresión\n",
        "from sklearn.tree import DecisionTreeClassifier\n",
        "from sklearn.model_selection import train_test_split"
      ],
      "metadata": {
        "id": "jcWqcH2Jj4Ee"
      },
      "execution_count": 9,
      "outputs": []
    },
    {
      "cell_type": "code",
      "source": [
        "#Predicciones \n",
        "#Aqui x obtiene todos los datos, se ingresan las variables a predecir \n",
        "#y las columnas a las cuales se van omitir. Por lo que y es de donde se obtendran los datos\n",
        "x = dataframe.drop (['track_id', 'energy'], axis=1)\n",
        "y = dataframe.energy"
      ],
      "metadata": {
        "id": "4_NN4Lpgl_jn"
      },
      "execution_count": 15,
      "outputs": []
    }
  ]
}